{
 "cells": [
  {
   "cell_type": "code",
   "execution_count": 102,
   "id": "671e8b6a",
   "metadata": {},
   "outputs": [],
   "source": [
    "import numpy as np\n",
    "import pandas as pd\n",
    "import tensorflow as tf\n",
    "from sklearn.model_selection import train_test_split\n",
    "from sklearn.preprocessing import MinMaxScaler\n",
    "import seaborn as sns\n",
    "import scanpy as sc\n",
    "import os as os\n",
    "from scipy.stats import spearmanr\n",
    "from matplotlib import pyplot as plt"
   ]
  },
  {
   "cell_type": "markdown",
   "id": "9174d9cc",
   "metadata": {},
   "source": [
    "# Load models and selected genes"
   ]
  },
  {
   "cell_type": "code",
   "execution_count": 103,
   "id": "030f16c3",
   "metadata": {},
   "outputs": [],
   "source": [
    "array_of_models = []\n",
    "for i in range(7):\n",
    "    array_of_models.append(tf.keras.models.load_model('Best_performance_model_for_clsuter_'+str(i)+'_final.h5'))"
   ]
  },
  {
   "cell_type": "code",
   "execution_count": 104,
   "id": "2fc75518",
   "metadata": {},
   "outputs": [],
   "source": [
    "selected_gene_index = []\n",
    "for i in range(7):\n",
    "    selected_gene_index.append(np.load('Selected_genes/selected_gene'+str(i)+'.npy'))"
   ]
  },
  {
   "cell_type": "code",
   "execution_count": 105,
   "id": "f7034c6e",
   "metadata": {},
   "outputs": [],
   "source": [
    "gene_names = np.load('Selected_genes/Gene_names.npy', allow_pickle=True)"
   ]
  },
  {
   "cell_type": "code",
   "execution_count": 106,
   "id": "c84123e0",
   "metadata": {},
   "outputs": [],
   "source": [
    "cluster_names = ['CD4+ T cells', 'Monocytes', 'NK cells', 'B cells', 'CD8+ T cells',\n",
    "       'Platelets', 'DC cells']"
   ]
  },
  {
   "cell_type": "markdown",
   "id": "383f3049",
   "metadata": {},
   "source": [
    "# Preprocessing and prediction"
   ]
  },
  {
   "cell_type": "code",
   "execution_count": 107,
   "id": "9adda34f",
   "metadata": {},
   "outputs": [],
   "source": [
    "def Preprocessing(countmatrix,colname_of_gene_name, colname_of_counts, gene_names=gene_names):\n",
    "    X = []\n",
    "    scaler = MinMaxScaler()\n",
    "    for i in gene_names:\n",
    "        if i in countmatrix[colname_of_gene_name].values:\n",
    "            X.append(np.log1p(countmatrix[countmatrix[colname_of_gene_name]==i][colname_of_counts].values)[0])\n",
    "        else:\n",
    "            print('Warning! Missing an expression! '+i)\n",
    "            X.append(0)\n",
    "    X = scaler.fit_transform(np.array(X).reshape(-1,1)).flatten()\n",
    "    return X"
   ]
  },
  {
   "cell_type": "code",
   "execution_count": 108,
   "id": "fee3f4fa",
   "metadata": {},
   "outputs": [],
   "source": [
    "def PredictWithSelection(Xs, selected_gene_index=selected_gene_index,model_list=array_of_models):\n",
    "    y_prediction_list = []\n",
    "    results_df = pd.DataFrame()\n",
    "    for cluster in range(0,7):\n",
    "        print('Deconvoluting cluster '+str(cluster))\n",
    "        sample_id = 0\n",
    "        y_prediction =[]\n",
    "        if cluster == 6:\n",
    "            X = Xs[selected_gene_index[cluster]]\n",
    "            print('Deconvoluting sample '+str(sample_id))\n",
    "            y = model_list[cluster].predict(np.array([X]))[0]\n",
    "            y_prediction.append(y.flatten()[0]/10)\n",
    "            sample_id+=1\n",
    "        else:\n",
    "            X = Xs[selected_gene_index[cluster]]\n",
    "            print('Deconvoluting sample '+str(sample_id))\n",
    "            y = model_list[cluster].predict(np.array([X]))[0]\n",
    "            y_prediction.append(y.flatten()[0])\n",
    "            sample_id+=1\n",
    "        y_prediction = np.array(y_prediction)\n",
    "        y_prediction_list.append(y_prediction)\n",
    "    results_df['Cell type'] = cluster_names\n",
    "    results_df['Proportion'] = np.array(y_prediction_list).flatten()\n",
    "    return(results_df)"
   ]
  },
  {
   "cell_type": "code",
   "execution_count": 109,
   "id": "bed32a4f",
   "metadata": {},
   "outputs": [
    {
     "data": {
      "text/plain": [
       "'\\n1. run Preprocessing function (this function processes one sample at a time, \\nprocess batches through the means of loops)\\n2. run PredictWithSelection function to get a list with predicted cell proportions\\n'"
      ]
     },
     "execution_count": 109,
     "metadata": {},
     "output_type": "execute_result"
    }
   ],
   "source": [
    "'''\n",
    "1. run Preprocessing function (this function processes one sample at a time, \n",
    "process batches through the means of loops)\n",
    "2. run PredictWithSelection function to get a list with predicted cell proportions\n",
    "'''"
   ]
  }
 ],
 "metadata": {
  "kernelspec": {
   "display_name": "Python 3 (ipykernel)",
   "language": "python",
   "name": "python3"
  },
  "language_info": {
   "codemirror_mode": {
    "name": "ipython",
    "version": 3
   },
   "file_extension": ".py",
   "mimetype": "text/x-python",
   "name": "python",
   "nbconvert_exporter": "python",
   "pygments_lexer": "ipython3",
   "version": "3.8.10"
  }
 },
 "nbformat": 4,
 "nbformat_minor": 5
}
