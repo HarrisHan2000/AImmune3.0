{
 "cells": [
  {
   "cell_type": "code",
   "execution_count": 1,
   "id": "78070b36",
   "metadata": {},
   "outputs": [
    {
     "name": "stderr",
     "output_type": "stream",
     "text": [
      "2021-09-14 16:08:16.988402: I tensorflow/stream_executor/platform/default/dso_loader.cc:53] Successfully opened dynamic library libcudart.so.11.0\n"
     ]
    }
   ],
   "source": [
    "import numpy as np\n",
    "import pandas as pd\n",
    "import tensorflow as tf\n",
    "from sklearn.model_selection import train_test_split\n",
    "from sklearn.preprocessing import StandardScaler\n",
    "import seaborn as sns\n",
    "import scanpy as sc\n",
    "import os as os\n",
    "from scipy.stats import spearmanr"
   ]
  },
  {
   "cell_type": "markdown",
   "id": "edaa1a40",
   "metadata": {},
   "source": [
    "# Load models and selected genes"
   ]
  },
  {
   "cell_type": "code",
   "execution_count": 2,
   "id": "cd321706",
   "metadata": {},
   "outputs": [
    {
     "name": "stderr",
     "output_type": "stream",
     "text": [
      "2021-09-14 16:09:03.652987: I tensorflow/stream_executor/platform/default/dso_loader.cc:53] Successfully opened dynamic library libcuda.so.1\n",
      "2021-09-14 16:09:03.718203: I tensorflow/core/common_runtime/gpu/gpu_device.cc:1733] Found device 0 with properties: \n",
      "pciBusID: 0000:65:00.0 name: NVIDIA GeForce RTX 3060 computeCapability: 8.6\n",
      "coreClock: 1.837GHz coreCount: 28 deviceMemorySize: 11.75GiB deviceMemoryBandwidth: 335.32GiB/s\n",
      "2021-09-14 16:09:03.718299: I tensorflow/stream_executor/platform/default/dso_loader.cc:53] Successfully opened dynamic library libcudart.so.11.0\n",
      "2021-09-14 16:09:03.724422: I tensorflow/stream_executor/platform/default/dso_loader.cc:53] Successfully opened dynamic library libcublas.so.11\n",
      "2021-09-14 16:09:03.724572: I tensorflow/stream_executor/platform/default/dso_loader.cc:53] Successfully opened dynamic library libcublasLt.so.11\n",
      "2021-09-14 16:09:03.726605: I tensorflow/stream_executor/platform/default/dso_loader.cc:53] Successfully opened dynamic library libcufft.so.10\n",
      "2021-09-14 16:09:03.727189: I tensorflow/stream_executor/platform/default/dso_loader.cc:53] Successfully opened dynamic library libcurand.so.10\n",
      "2021-09-14 16:09:03.729090: I tensorflow/stream_executor/platform/default/dso_loader.cc:53] Successfully opened dynamic library libcusolver.so.11\n",
      "2021-09-14 16:09:03.730356: I tensorflow/stream_executor/platform/default/dso_loader.cc:53] Successfully opened dynamic library libcusparse.so.11\n",
      "2021-09-14 16:09:03.730650: I tensorflow/stream_executor/platform/default/dso_loader.cc:53] Successfully opened dynamic library libcudnn.so.8\n",
      "2021-09-14 16:09:03.733113: I tensorflow/core/common_runtime/gpu/gpu_device.cc:1871] Adding visible gpu devices: 0\n",
      "2021-09-14 16:09:03.733778: I tensorflow/core/platform/cpu_feature_guard.cc:142] This TensorFlow binary is optimized with oneAPI Deep Neural Network Library (oneDNN) to use the following CPU instructions in performance-critical operations:  AVX2 AVX512F FMA\n",
      "To enable them in other operations, rebuild TensorFlow with the appropriate compiler flags.\n",
      "2021-09-14 16:09:03.737773: I tensorflow/core/common_runtime/gpu/gpu_device.cc:1733] Found device 0 with properties: \n",
      "pciBusID: 0000:65:00.0 name: NVIDIA GeForce RTX 3060 computeCapability: 8.6\n",
      "coreClock: 1.837GHz coreCount: 28 deviceMemorySize: 11.75GiB deviceMemoryBandwidth: 335.32GiB/s\n",
      "2021-09-14 16:09:03.738470: I tensorflow/core/common_runtime/gpu/gpu_device.cc:1871] Adding visible gpu devices: 0\n",
      "2021-09-14 16:09:03.741064: I tensorflow/stream_executor/platform/default/dso_loader.cc:53] Successfully opened dynamic library libcudart.so.11.0\n",
      "2021-09-14 16:09:06.374202: I tensorflow/core/common_runtime/gpu/gpu_device.cc:1258] Device interconnect StreamExecutor with strength 1 edge matrix:\n",
      "2021-09-14 16:09:06.374285: I tensorflow/core/common_runtime/gpu/gpu_device.cc:1264]      0 \n",
      "2021-09-14 16:09:06.374303: I tensorflow/core/common_runtime/gpu/gpu_device.cc:1277] 0:   N \n",
      "2021-09-14 16:09:06.376375: I tensorflow/core/common_runtime/gpu/gpu_device.cc:1418] Created TensorFlow device (/job:localhost/replica:0/task:0/device:GPU:0 with 765 MB memory) -> physical GPU (device: 0, name: NVIDIA GeForce RTX 3060, pci bus id: 0000:65:00.0, compute capability: 8.6)\n"
     ]
    }
   ],
   "source": [
    "array_of_models = []\n",
    "for i in range(7):\n",
    "    array_of_models.append(tf.keras.models.load_model('Best_performance_model_for_clsuter_'+str(i)+'_final.h5'))"
   ]
  },
  {
   "cell_type": "code",
   "execution_count": 3,
   "id": "105cb691",
   "metadata": {},
   "outputs": [],
   "source": [
    "selected_gene_index = []\n",
    "for i in range(7):\n",
    "    selected_gene_index.append(np.load('Selected_genes/selected_gene'+str(i)+'.npy'))"
   ]
  },
  {
   "cell_type": "code",
   "execution_count": 6,
   "id": "83b58a89",
   "metadata": {},
   "outputs": [],
   "source": [
    "gene_names = np.load('Selected_genes/Gene_names.npy', allow_pickle=True)"
   ]
  },
  {
   "cell_type": "markdown",
   "id": "8e691bc6",
   "metadata": {},
   "source": [
    "# Preprocessing and prediction"
   ]
  },
  {
   "cell_type": "code",
   "execution_count": 10,
   "id": "056e0636",
   "metadata": {},
   "outputs": [],
   "source": [
    "def Preprocessing(countmatrix,colname_of_gene_name, colname_of_counts, gene_names):\n",
    "    X = []\n",
    "    for i in gene_names:\n",
    "        if i in countmatrix[colname_of_gene_name]:\n",
    "            X.append(countmatrix[countmatrix[colname_of_gene_name]==i][colname_of_counts])\n",
    "        else:\n",
    "            print('Warning! Missing an expression!')\n",
    "            X.append(0)\n",
    "    return X"
   ]
  },
  {
   "cell_type": "code",
   "execution_count": 11,
   "id": "3273ae23",
   "metadata": {},
   "outputs": [],
   "source": [
    "def PredictWithSelection(model_list, X_test, selected_gene_index):\n",
    "    y_prediction_list = []\n",
    "    for cluster in range(0,y_test[0].shape[0]):\n",
    "        print('Deconvoluting cluster '+str(cluster))\n",
    "        sample_id = 0\n",
    "        y_prediction =[]\n",
    "        if cluster == y_test[0].shape[0]-1:\n",
    "            for X in X_test[:,selected_gene_index[cluster]]:\n",
    "                print('Deconvoluting sample '+str(sample_id))\n",
    "                y = model_list[cluster].predict(np.array([X]))[0]\n",
    "                y_prediction.append(y.flatten()[0]/10)\n",
    "                sample_id+=1\n",
    "        else:\n",
    "            for X in X_test[:,selected_gene_index[cluster]]:\n",
    "                print('Deconvoluting sample '+str(sample_id))\n",
    "                y = model_list[cluster].predict(np.array([X]))[0]\n",
    "                y_prediction.append(y.flatten()[0])\n",
    "                sample_id+=1\n",
    "        y_prediction = np.array(y_prediction)\n",
    "        y_prediction_list.append(y_prediction)\n",
    "    return(y_prediction_list)"
   ]
  },
  {
   "cell_type": "code",
   "execution_count": 12,
   "id": "9f48b79a",
   "metadata": {},
   "outputs": [
    {
     "data": {
      "text/plain": [
       "'\\n1. run Preprocessing function (this function processes one sample at a time, \\nprocess batches through the means of loops)\\n2. run PredictWithSelection function to get a list with predicted cell proportions\\n'"
      ]
     },
     "execution_count": 12,
     "metadata": {},
     "output_type": "execute_result"
    }
   ],
   "source": [
    "'''\n",
    "1. run Preprocessing function (this function processes one sample at a time, \n",
    "process batches through the means of loops)\n",
    "2. run PredictWithSelection function to get a list with predicted cell proportions\n",
    "'''"
   ]
  }
 ],
 "metadata": {
  "kernelspec": {
   "display_name": "Python 3 (ipykernel)",
   "language": "python",
   "name": "python3"
  },
  "language_info": {
   "codemirror_mode": {
    "name": "ipython",
    "version": 3
   },
   "file_extension": ".py",
   "mimetype": "text/x-python",
   "name": "python",
   "nbconvert_exporter": "python",
   "pygments_lexer": "ipython3",
   "version": "3.9.2"
  }
 },
 "nbformat": 4,
 "nbformat_minor": 5
}
